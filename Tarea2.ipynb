{
  "nbformat": 4,
  "nbformat_minor": 0,
  "metadata": {
    "colab": {
      "provenance": [],
      "authorship_tag": "ABX9TyMOsPEPqtvmRvQPTyAzBbky",
      "include_colab_link": true
    },
    "kernelspec": {
      "name": "python3",
      "display_name": "Python 3"
    },
    "language_info": {
      "name": "python"
    }
  },
  "cells": [
    {
      "cell_type": "markdown",
      "metadata": {
        "id": "view-in-github",
        "colab_type": "text"
      },
      "source": [
        "<a href=\"https://colab.research.google.com/github/Kaiser2110/MateriaIA/blob/main/Tarea2.ipynb\" target=\"_parent\"><img src=\"https://colab.research.google.com/assets/colab-badge.svg\" alt=\"Open In Colab\"/></a>"
      ]
    },
    {
      "cell_type": "code",
      "execution_count": null,
      "metadata": {
        "colab": {
          "base_uri": "https://localhost:8080/"
        },
        "id": "qFqsMAUbhKyP",
        "outputId": "ad71a152-6554-4fd1-b981-39b8d7a8cf3f"
      },
      "outputs": [
        {
          "output_type": "stream",
          "name": "stdout",
          "text": [
            "Año: 2001\n",
            "Mes: 10\n",
            "Dia: 21\n",
            "21 años, 3 meses y 24 días\n"
          ]
        }
      ],
      "source": [
        "from datetime import datetime\n",
        "from dateutil.relativedelta import relativedelta\n",
        "\n",
        "y = input('Año: ')\n",
        "m = input('Mes: ')\n",
        "d = input('Dia: ')\n",
        "def calc_edad(y, m, d):\n",
        "  fecha = datetime.strptime(d + \"/\" + m + \"/\" + y, \"%d/%m/%Y\")\n",
        "  edad = relativedelta(datetime.now(), fecha)\n",
        "  print(f\"{edad.years} años, {edad.months} meses y {edad.days} días\")\n",
        "  return edad"
      ]
    },
    {
      "cell_type": "code",
      "source": [
        "def EscribirCentrado(text):\n",
        "  print(' ' * int(87 - len(text)/2), end = \"\")\n",
        "  print(text)\n",
        "\n",
        "\n",
        "EscribirCentrado('Hola Mundo')"
      ],
      "metadata": {
        "colab": {
          "base_uri": "https://localhost:8080/"
        },
        "id": "fhjH5RGQkdM_",
        "outputId": "e5563d5e-83e7-4047-f9af-b1cb6ae3b3f1"
      },
      "execution_count": null,
      "outputs": [
        {
          "output_type": "stream",
          "name": "stdout",
          "text": [
            "                                                                                  Hola Mundo\n"
          ]
        }
      ]
    },
    {
      "cell_type": "code",
      "source": [
        "from IPython.display import display, Markdown, Latex\n",
        "\n",
        "def ital_bold(text):\n",
        "  display(Markdown(\"***\" + text + '***'))\n",
        "\n",
        "ital_bold('INTELIGENCIA ARTIFICAL')"
      ],
      "metadata": {
        "id": "sOMMQ6PglxJR",
        "colab": {
          "base_uri": "https://localhost:8080/",
          "height": 64
        },
        "outputId": "e60b815d-062c-4948-e148-959dffcd3b54"
      },
      "execution_count": null,
      "outputs": [
        {
          "output_type": "display_data",
          "data": {
            "text/plain": [
              "<IPython.core.display.Markdown object>"
            ],
            "text/markdown": "***INTELIGENCIA ARTIFICAL***"
          },
          "metadata": {}
        },
        {
          "output_type": "stream",
          "name": "stdout",
          "text": [
            "**ia**\n"
          ]
        }
      ]
    },
    {
      "cell_type": "code",
      "source": [
        "a, b = int(input()), int(input())\n",
        "\n",
        "if (a / b).is_integer():\n",
        "  print(str(b) + ' es múltiplo de ' + str(a))\n",
        "elif (b / a).is_integer():\n",
        "  print(str(a) + ' es múltiplo de ' + str(b))\n",
        "else:\n",
        "  print('Ninguno es múltiplo del otro')"
      ],
      "metadata": {
        "colab": {
          "base_uri": "https://localhost:8080/"
        },
        "id": "9LqEXgGmnotV",
        "outputId": "49f0df2e-53f3-49ed-df9c-3d2ebbf90789"
      },
      "execution_count": null,
      "outputs": [
        {
          "output_type": "stream",
          "name": "stdout",
          "text": [
            "6\n",
            "36\n",
            "6 es múltiplo de 36\n"
          ]
        }
      ]
    },
    {
      "cell_type": "code",
      "source": [
        "def temp_media(temp):\n",
        "  if len(temp) != 24:\n",
        "    print('Más de 24 datos')\n",
        "    return None\n",
        "  else:\n",
        "    c = 0\n",
        "    for i in temp:\n",
        "      c += i\n",
        "    print(c / 24)\n",
        "    return c / 24\n",
        "temp_media([1, 2, 3, 4, 5, 6, 7, 8, 9, 10, 11, 12, 13, 14, 15, 16, 17, 18, 19, 20, 21, 22, 23, 24])"
      ],
      "metadata": {
        "colab": {
          "base_uri": "https://localhost:8080/"
        },
        "id": "iDMdZ3Vgpog_",
        "outputId": "35088971-69a2-4b9f-bc81-3fca36621cc0"
      },
      "execution_count": null,
      "outputs": [
        {
          "output_type": "stream",
          "name": "stdout",
          "text": [
            "12.5\n"
          ]
        },
        {
          "output_type": "execute_result",
          "data": {
            "text/plain": [
              "12.5"
            ]
          },
          "metadata": {},
          "execution_count": 41
        }
      ]
    },
    {
      "cell_type": "code",
      "source": [
        "def ConvertirEspaciado(text):\n",
        "  new_text = \"\"\n",
        "  for i in text:\n",
        "    new_text = new_text + i + \" \"\n",
        "  return new_text\n",
        "\n",
        "ConvertirEspaciado(\"Hola Mundo\")"
      ],
      "metadata": {
        "colab": {
          "base_uri": "https://localhost:8080/",
          "height": 35
        },
        "id": "wx3c00vqrNJv",
        "outputId": "c3fa9a6f-a14c-4dca-abce-5cef931d9a2a"
      },
      "execution_count": null,
      "outputs": [
        {
          "output_type": "execute_result",
          "data": {
            "text/plain": [
              "'H o l a   M u n d o '"
            ],
            "application/vnd.google.colaboratory.intrinsic+json": {
              "type": "string"
            }
          },
          "metadata": {},
          "execution_count": 2
        }
      ]
    },
    {
      "cell_type": "code",
      "source": [
        "def calcularMaxMin(array):\n",
        "  return [max(array), min(array)]\n",
        "\n",
        "calcularMaxMin([1, 2, 3, 4, 5, 6, 7, 8, 9, 10, 11, 12, 13, 14, 15, 16, 17, 18, 19, 20, 21, 22, 23, 24])"
      ],
      "metadata": {
        "colab": {
          "base_uri": "https://localhost:8080/"
        },
        "id": "QanXpKq-r52N",
        "outputId": "fa882471-bf7c-40c3-b00b-020bb9674ecf"
      },
      "execution_count": null,
      "outputs": [
        {
          "output_type": "execute_result",
          "data": {
            "text/plain": [
              "[24, 1]"
            ]
          },
          "metadata": {},
          "execution_count": 44
        }
      ]
    },
    {
      "cell_type": "code",
      "source": [
        "def area_per(radio):\n",
        "  PI = 3.1415092\n",
        "  return {'Área' : PI * (radio ** 2), 'Perimetro' : 2 * PI * radio}\n",
        "\n",
        "area_per(3)"
      ],
      "metadata": {
        "colab": {
          "base_uri": "https://localhost:8080/"
        },
        "id": "WlcC2-dBtFTB",
        "outputId": "96b1eb5b-e68e-4152-c95e-9dceee5754d2"
      },
      "execution_count": null,
      "outputs": [
        {
          "output_type": "execute_result",
          "data": {
            "text/plain": [
              "{'Área': 28.2735828, 'Perimetro': 18.8490552}"
            ]
          },
          "metadata": {},
          "execution_count": 45
        }
      ]
    },
    {
      "cell_type": "code",
      "source": [
        "intentos = 0\n",
        "def Login(user, psswrd):\n",
        "  global intentos\n",
        "  acceso = True if (user == 'usuario1' and psswrd == 'asdasd') else False\n",
        "  intentos = intentos + (0 if acceso else 1)\n",
        "\n",
        "\n",
        "print(intentos)\n",
        "Login('yo', '123')\n",
        "print(intentos)\n",
        "Login('otro yo', 'asdasd')\n",
        "print(intentos)\n",
        "Login('usuario1','asdasd')\n",
        "print(intentos)"
      ],
      "metadata": {
        "id": "LH0_TmbhtmZL",
        "colab": {
          "base_uri": "https://localhost:8080/"
        },
        "outputId": "522388bf-3c06-475b-9e72-1b21694ccff4"
      },
      "execution_count": null,
      "outputs": [
        {
          "output_type": "stream",
          "name": "stdout",
          "text": [
            "0\n",
            "1\n",
            "2\n",
            "2\n"
          ]
        }
      ]
    },
    {
      "cell_type": "code",
      "source": [
        "def seg_time(hor, min, seg):\n",
        "  return (hor * (60)**2) + (min * 60) + seg\n",
        "\n",
        "def time_seg(s):\n",
        "  seg = s % 60\n",
        "  min = s // 60\n",
        "  hor = min // 60\n",
        "  min = min % 60\n",
        "  return hor, min, seg\n",
        "\n",
        "print(time_seg(seg_time(6,30,45)))\n",
        "seg_time(time_seg(5000)[0], time_seg(5000)[1], time_seg(5000)[2] )"
      ],
      "metadata": {
        "colab": {
          "base_uri": "https://localhost:8080/"
        },
        "id": "-4aPbU4CP8jd",
        "outputId": "bac7784a-af20-449d-db10-c464705d64cd"
      },
      "execution_count": null,
      "outputs": [
        {
          "output_type": "stream",
          "name": "stdout",
          "text": [
            "(6, 30, 45)\n"
          ]
        },
        {
          "output_type": "execute_result",
          "data": {
            "text/plain": [
              "5000"
            ]
          },
          "metadata": {},
          "execution_count": 12
        }
      ]
    },
    {
      "cell_type": "code",
      "source": [
        "def volteador(tp):\n",
        "  inv_tp = []\n",
        "  for i in range(len(tp)-1, -1, -1):\n",
        "    inv_tp.append(tp[i])\n",
        "  return tuple(inv_tp)\n",
        "\n",
        "volteador((1, 2, 3, 4, 5))\n"
      ],
      "metadata": {
        "colab": {
          "base_uri": "https://localhost:8080/"
        },
        "id": "mpsSSYRHgBqp",
        "outputId": "c771d8a7-6153-4075-a603-9fb8908d1202"
      },
      "execution_count": null,
      "outputs": [
        {
          "output_type": "execute_result",
          "data": {
            "text/plain": [
              "(5, 4, 3, 2, 1)"
            ]
          },
          "metadata": {},
          "execution_count": 16
        }
      ]
    },
    {
      "cell_type": "code",
      "source": [
        "import functools as ft\n",
        "\n",
        "def geom_mean(lista):\n",
        "  return (ft.reduce(lambda a, b: a * b, lista)) ** (1/len(lista))\n",
        "\n",
        "\n",
        "geom_mean([1, 2, 3, 4, 5, 6, 7])"
      ],
      "metadata": {
        "colab": {
          "base_uri": "https://localhost:8080/"
        },
        "id": "0zkgzr1ZjClb",
        "outputId": "7b3d04ca-8403-466c-d1f4-1330eb95863b"
      },
      "execution_count": null,
      "outputs": [
        {
          "output_type": "execute_result",
          "data": {
            "text/plain": [
              "3.3800151591412964"
            ]
          },
          "metadata": {},
          "execution_count": 17
        }
      ]
    }
  ]
}