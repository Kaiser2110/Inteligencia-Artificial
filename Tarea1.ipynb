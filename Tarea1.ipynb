{
  "cells": [
    {
      "cell_type": "markdown",
      "metadata": {
        "id": "view-in-github",
        "colab_type": "text"
      },
      "source": [
        "<a href=\"https://colab.research.google.com/github/Kaiser2110/MateriaIA/blob/main/Tarea1.ipynb\" target=\"_parent\"><img src=\"https://colab.research.google.com/assets/colab-badge.svg\" alt=\"Open In Colab\"/></a>"
      ]
    },
    {
      "cell_type": "markdown",
      "id": "413edee2",
      "metadata": {
        "id": "413edee2"
      },
      "source": [
        "# La Mediana"
      ]
    },
    {
      "cell_type": "markdown",
      "id": "735084d6",
      "metadata": {
        "id": "735084d6"
      },
      "source": [
        "![image.png](attachment:image.png)"
      ]
    },
    {
      "cell_type": "markdown",
      "id": "f43946fc",
      "metadata": {
        "id": "f43946fc"
      },
      "source": [
        "## Sobre el autor\n",
        "\n",
        "Mi nombre es Mateo Cardona, estudio estadística en la Universidad Nacional de Colombia, voy en novena matricula y espero graduarme en 2024. Actualmente me encuentro en el curso Inteligencia Artificial el cual es la razón por la que este cuaderno existe."
      ]
    },
    {
      "cell_type": "markdown",
      "id": "d6d1fd81",
      "metadata": {
        "id": "d6d1fd81"
      },
      "source": [
        "![WhatsApp%20Image%202023-02-21%20at%2012.53.48.jpeg](attachment:WhatsApp%20Image%202023-02-21%20at%2012.53.48.jpeg)"
      ]
    },
    {
      "cell_type": "markdown",
      "id": "e792bd78",
      "metadata": {
        "id": "e792bd78"
      },
      "source": [
        " Representa el valor de la variable de posición __central__ en un conjunto de datos ordenados"
      ]
    },
    {
      "cell_type": "markdown",
      "id": "d3127067",
      "metadata": {
        "id": "d3127067"
      },
      "source": [
        "Por ejemplo si tuvieramos el siguiente conjunto de datos; 1, 3, 7, 5, 13, 9, 11"
      ]
    },
    {
      "cell_type": "markdown",
      "id": "faf19d5f",
      "metadata": {
        "id": "faf19d5f"
      },
      "source": [
        "la meadiana sería 7 ya que es el dato que se encuentra justo en la mitad"
      ]
    },
    {
      "cell_type": "markdown",
      "id": "a278900c",
      "metadata": {
        "id": "a278900c"
      },
      "source": [
        "## Referencias\n",
        "\n",
        "-https://es.wikipedia.org/wiki/Mediana_(estadística)"
      ]
    },
    {
      "cell_type": "markdown",
      "id": "724eee72",
      "metadata": {
        "id": "724eee72"
      },
      "source": [
        "-https://www.ibm.com/docs/en/watson-studio-local/1.2.3?topic=notebooks-markdown-jupyter-cheatsheet"
      ]
    }
  ],
  "metadata": {
    "kernelspec": {
      "display_name": "Python 3 (ipykernel)",
      "language": "python",
      "name": "python3"
    },
    "language_info": {
      "codemirror_mode": {
        "name": "ipython",
        "version": 3
      },
      "file_extension": ".py",
      "mimetype": "text/x-python",
      "name": "python",
      "nbconvert_exporter": "python",
      "pygments_lexer": "ipython3",
      "version": "3.10.6"
    },
    "colab": {
      "provenance": [],
      "include_colab_link": true
    }
  },
  "nbformat": 4,
  "nbformat_minor": 5
}